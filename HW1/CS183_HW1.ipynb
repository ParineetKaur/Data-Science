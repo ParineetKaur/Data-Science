{
  "nbformat": 4,
  "nbformat_minor": 0,
  "metadata": {
    "colab": {
      "provenance": []
    },
    "kernelspec": {
      "name": "python3",
      "display_name": "Python 3"
    },
    "language_info": {
      "name": "python"
    }
  },
  "cells": [
    {
      "cell_type": "markdown",
      "source": [
        "Python Basics"
      ],
      "metadata": {
        "id": "pObQ4C3oABuG"
      }
    },
    {
      "cell_type": "markdown",
      "source": [
        "Q1: Write a Python program to print the number and sum of prime numbers which are less than or equal to a given number."
      ],
      "metadata": {
        "id": "NEelkH8PA42i"
      }
    },
    {
      "cell_type": "code",
      "source": [
        "def prime(num):\n",
        "    if num < 2:\n",
        "        return False\n",
        "    for i in range(2, int(num ** 0.5) + 1):\n",
        "        if num % i == 0:\n",
        "            return False\n",
        "    return True\n",
        "\n",
        "\n",
        "def sum_and_prime(given):\n",
        "    primes = [num for num in range(2, given + 1) if prime(num)]\n",
        "    sum_prime = sum(primes)\n",
        "\n",
        "    print(f\"Prime Numbers: {primes}\")\n",
        "    print(f\"Sum of Primes: {sum_prime}\")\n",
        "\n",
        "\n",
        "sum_and_prime(22)\n"
      ],
      "metadata": {
        "id": "00XUCItoAGrU",
        "colab": {
          "base_uri": "https://localhost:8080/"
        },
        "outputId": "c506724e-245e-413b-bf78-94478b601842"
      },
      "execution_count": null,
      "outputs": [
        {
          "output_type": "stream",
          "name": "stdout",
          "text": [
            "Prime Numbers: [2, 3, 5, 7, 11, 13, 17, 19]\n",
            "Sum of Primes: 77\n"
          ]
        }
      ]
    },
    {
      "cell_type": "markdown",
      "source": [
        "Q2: Write a Python program to find the largest product of the pair of adjacent elements from a given list of integers."
      ],
      "metadata": {
        "id": "r2IjSl81A9e3"
      }
    },
    {
      "cell_type": "code",
      "source": [
        "def findLargestProduct(list):\n",
        "    #Temporarily initialize largestProduct\n",
        "    largestProduct = list[0] * list[1]\n",
        "    #Case 1: List does not contain enough elements\n",
        "    if len(list) < 2:\n",
        "        print(\"List does not contain enough elements to run the alogrithm!\")\n",
        "    #Case 1: List contains enough elements\n",
        "    else:\n",
        "        for x in range(1, len(list) - 1):\n",
        "            tempProduct = list[x] * list[x + 1]\n",
        "            largestProduct = max(largestProduct, tempProduct)\n",
        "\n",
        "    return largestProduct\n",
        "\n",
        "lst = [2, 1, 3, 10, -3, 0]\n",
        "answer = findLargestProduct(lst)\n",
        "print(answer)"
      ],
      "metadata": {
        "id": "rxS6RtwlBERh",
        "colab": {
          "base_uri": "https://localhost:8080/"
        },
        "outputId": "e3428ca7-3899-4d53-8a7c-471d5b64c58c"
      },
      "execution_count": null,
      "outputs": [
        {
          "output_type": "stream",
          "name": "stdout",
          "text": [
            "30\n"
          ]
        }
      ]
    },
    {
      "cell_type": "markdown",
      "source": [
        "Q3: Given a password, we have to categorize it as valid or invalid. There are some checks that need to be met to be a valid password. For a invalid password, we need to return the reason for it to be invalid."
      ],
      "metadata": {
        "id": "XwAkmsbdBF9L"
      }
    },
    {
      "cell_type": "code",
      "source": [
        "def passwordValidation(password):\n",
        "    #Initializing special characters list to allow for checking purposes\n",
        "    specialCharacters = \"!@#$%^&*()_-+={}[]:;\\\"'<>,./\\\\\"\n",
        "    isValid = True\n",
        "\n",
        "    #NOTE: any() function here is being used to return True if at least one element of password string is true (according to condition). Returns False if no match (to condition).\n",
        "    if not any (character in specialCharacters for character in password):\n",
        "        print(\"INVALID: The password does not contain an special symbols/characters. The password must contain at least one special symbol/character.\")\n",
        "        isValid = False\n",
        "\n",
        "    if not any (character.isupper() for character in password):\n",
        "         print(\"INVALID: The password does not contain an upper case character. The password must contain at least one upper case character.\")\n",
        "         isValid = False\n",
        "\n",
        "    if not any (character.islower() for character in password):\n",
        "         print(\"INVALID: The password does not contain an lower case character. The password must contain at least one lower case character.\")\n",
        "         isValid = False\n",
        "\n",
        "    if not any (character.isdigit() for character in password):\n",
        "         print(\"INVALID: The password does not contain a number. The password must contain at least one number.\")\n",
        "         isValid = False\n",
        "\n",
        "    if len(password) < 6:\n",
        "        print(\"INVALID: The password does not have enough characters. The password must contain 6 to 20 characters.\")\n",
        "        isValid = False\n",
        "\n",
        "    if len(password) > 20:\n",
        "        print(\"INVALID: The password exceeds the character limit. The password can be max 20 characters long.\")\n",
        "        isValid = False\n",
        "\n",
        "    if not isValid:\n",
        "        return \"Invalid\"\n",
        "\n",
        "    else:\n",
        "        return \"Valid\"\n",
        "\n",
        "samplePassword = \"John_Smith6455\"\n",
        "answer = passwordValidation(samplePassword)\n",
        "print(answer)\n"
      ],
      "metadata": {
        "id": "hUWmBA5UBNwj",
        "colab": {
          "base_uri": "https://localhost:8080/"
        },
        "outputId": "e3d0b94e-3b43-4455-d909-1e3930f28996"
      },
      "execution_count": null,
      "outputs": [
        {
          "output_type": "stream",
          "name": "stdout",
          "text": [
            "Valid\n"
          ]
        }
      ]
    },
    {
      "cell_type": "markdown",
      "source": [
        "Q4: Given a password, we have to categorize it as a strong or weak one. There are some checks that need to be met to be a strong password. For a weak password, we need to return the reason for it to be weak."
      ],
      "metadata": {
        "id": "IrpcpDGLBOjR"
      }
    },
    {
      "cell_type": "code",
      "source": [
        "def checkpassword(password):\n",
        "\n",
        "    if not (9 <= len(password) <= 20):\n",
        "        return \"Weak: Password must have a minimum of 9 characters and a maximum of 20 characters.\"\n",
        "\n",
        "    if '\\n' in password or ' ' in password:\n",
        "        return \"Weak: Password cannot contain a newline or space.\"\n",
        "\n",
        "    for i in range(len(password) - 2):\n",
        "        if password[i] == password[i + 1] == password[i + 2]:\n",
        "            return \"Weak: Password cannot have three or more repeating characters in a row.\"\n",
        "\n",
        "    for i in range(2, len(password) // 2 + 1):\n",
        "        for j in range(len(password) - i * 2 + 1):\n",
        "            if password[j:j + i] == password[j + i:j + 2 * i]:\n",
        "                return \"Weak: Password cannot have a repeating string patterns.\"\n",
        "\n",
        "    return \"Strong: Password fulfills all conditions.\"\n",
        "\n",
        "\n",
        "print(checkpassword(\"HW1Password\"))\n",
        "print(checkpassword(\"HW1 CSCI 183\"))\n"
      ],
      "metadata": {
        "id": "SawFronwBTZ_",
        "colab": {
          "base_uri": "https://localhost:8080/"
        },
        "outputId": "35f29742-c9d0-4870-ea9f-8a6f0e3f635f"
      },
      "execution_count": null,
      "outputs": [
        {
          "output_type": "stream",
          "name": "stdout",
          "text": [
            "Strong: Password fulfills all conditions.\n",
            "Weak: Password cannot contain a newline or space.\n"
          ]
        }
      ]
    },
    {
      "cell_type": "markdown",
      "source": [
        "Python for Data Science"
      ],
      "metadata": {
        "id": "PC0fkHN_BeW9"
      }
    },
    {
      "cell_type": "markdown",
      "source": [
        "Q1: Write Python code to read in all the columns (as a DataFrame) of the file cities.csv Download cities.csv. Print the content of the columns and also the shape of the dataframe"
      ],
      "metadata": {
        "id": "1AFHzkS6BgRw"
      }
    },
    {
      "cell_type": "code",
      "source": [
        "import pandas as pd\n",
        "\n",
        "df = pd.read_csv('/cities.csv') # when reading the file, copy/paste the path of the file on your device in order to run\n",
        "# df.columns = ['LatD','LatM','LatS','NS','LonD','LonM','LonS','EW','City','State']\n",
        "print('DataFrame Contents:')\n",
        "print(df)\n",
        "print('\\nDataFrame Shape:')\n",
        "print(df.shape)\n"
      ],
      "metadata": {
        "id": "uZ8dl8TXBrUC",
        "colab": {
          "base_uri": "https://localhost:8080/"
        },
        "outputId": "d804c6f9-ab5e-4bd9-a1d7-c81915b4289b"
      },
      "execution_count": null,
      "outputs": [
        {
          "output_type": "stream",
          "name": "stdout",
          "text": [
            "DataFrame Contents:\n",
            "     LatD   \"LatM\"   \"LatS\"  \"NS\"   \"LonD\"   \"LonM\"   \"LonS\"  \"EW\"  \\\n",
            "0      41        5       59   \"N\"       80       39        0   \"W\"   \n",
            "1      42       52       48   \"N\"       97       23       23   \"W\"   \n",
            "2      46       35       59   \"N\"      120       30       36   \"W\"   \n",
            "3      42       16       12   \"N\"       71       48        0   \"W\"   \n",
            "4      43       37       48   \"N\"       89       46       11   \"W\"   \n",
            "..    ...      ...      ...   ...      ...      ...      ...   ...   \n",
            "123    39       31       12   \"N\"      119       48       35   \"W\"   \n",
            "124    50       25       11   \"N\"      104       39        0   \"W\"   \n",
            "125    40       10       48   \"N\"      122       14       23   \"W\"   \n",
            "126    40       19       48   \"N\"       75       55       48   \"W\"   \n",
            "127    41        9       35   \"N\"       81       14       23   \"W\"   \n",
            "\n",
            "                 \"City\"  \"State\"  \n",
            "0          \"Youngstown\"       OH  \n",
            "1             \"Yankton\"       SD  \n",
            "2              \"Yakima\"       WA  \n",
            "3           \"Worcester\"       MA  \n",
            "4     \"Wisconsin Dells\"       WI  \n",
            "..                  ...      ...  \n",
            "123              \"Reno\"       NV  \n",
            "124            \"Regina\"       SA  \n",
            "125         \"Red Bluff\"       CA  \n",
            "126           \"Reading\"       PA  \n",
            "127           \"Ravenna\"      OH   \n",
            "\n",
            "[128 rows x 10 columns]\n",
            "\n",
            "DataFrame Shape:\n",
            "(128, 10)\n"
          ]
        }
      ]
    },
    {
      "cell_type": "markdown",
      "source": [
        "Q2: Create a subset of the DataFrame from Q1 in the following way:"
      ],
      "metadata": {
        "id": "xgdsmO-NBsGv"
      }
    },
    {
      "cell_type": "code",
      "source": [
        "import pandas as pd\n",
        "\n",
        "df = pd.read_csv('/cities.csv') # when reading the file, copy/paste the path of the file on your device in order to run\n",
        "df.columns = ['LatD','LatM','LatS','NS','LonD','LonM','LonS','EW','City','State']\n",
        "\n",
        "subset1 = df[['LatD', 'LonD', 'LatM', 'LonM']]\n",
        "print(\"Subset 1:\")\n",
        "print(subset1)\n",
        "\n",
        "subset2 = df.loc[0:99]\n",
        "print(\"Subset 2:\")\n",
        "print(subset2)\n",
        "\n",
        "subset3 = df.iloc[0:10, 1:4]\n",
        "print(\"Subset 3:\")\n",
        "print(subset3)\n"
      ],
      "metadata": {
        "id": "4c6AT1GNBxBG",
        "colab": {
          "base_uri": "https://localhost:8080/"
        },
        "outputId": "7de06fd5-9054-4fbc-8244-042775ff4123"
      },
      "execution_count": null,
      "outputs": [
        {
          "output_type": "stream",
          "name": "stdout",
          "text": [
            "Subset 1:\n",
            "     LatD  LonD  LatM  LonM\n",
            "0      41    80     5    39\n",
            "1      42    97    52    23\n",
            "2      46   120    35    30\n",
            "3      42    71    16    48\n",
            "4      43    89    37    46\n",
            "..    ...   ...   ...   ...\n",
            "123    39   119    31    48\n",
            "124    50   104    25    39\n",
            "125    40   122    10    14\n",
            "126    40    75    19    55\n",
            "127    41    81     9    14\n",
            "\n",
            "[128 rows x 4 columns]\n",
            "Subset 2:\n",
            "    LatD  LatM  LatS    NS  LonD  LonM  LonS    EW                City State\n",
            "0     41     5    59   \"N\"    80    39     0   \"W\"        \"Youngstown\"    OH\n",
            "1     42    52    48   \"N\"    97    23    23   \"W\"           \"Yankton\"    SD\n",
            "2     46    35    59   \"N\"   120    30    36   \"W\"            \"Yakima\"    WA\n",
            "3     42    16    12   \"N\"    71    48     0   \"W\"         \"Worcester\"    MA\n",
            "4     43    37    48   \"N\"    89    46    11   \"W\"   \"Wisconsin Dells\"    WI\n",
            "..   ...   ...   ...   ...   ...   ...   ...   ...                 ...   ...\n",
            "95    31    27    35   \"N\"   100    26    24   \"W\"        \"San Angelo\"    TX\n",
            "96    40    45    35   \"N\"   111    52    47   \"W\"    \"Salt Lake City\"    UT\n",
            "97    38    22    11   \"N\"    75    35    59   \"W\"         \"Salisbury\"    MD\n",
            "98    36    40    11   \"N\"   121    39     0   \"W\"           \"Salinas\"    CA\n",
            "99    38    50    24   \"N\"    97    36    36   \"W\"            \"Salina\"    KS\n",
            "\n",
            "[100 rows x 10 columns]\n",
            "Subset 3:\n",
            "   LatM  LatS    NS\n",
            "0     5    59   \"N\"\n",
            "1    52    48   \"N\"\n",
            "2    35    59   \"N\"\n",
            "3    16    12   \"N\"\n",
            "4    37    48   \"N\"\n",
            "5     5    59   \"N\"\n",
            "6    52    48   \"N\"\n",
            "7    11    23   \"N\"\n",
            "8    14    24   \"N\"\n",
            "9    45     0   \"N\"\n"
          ]
        }
      ]
    },
    {
      "cell_type": "markdown",
      "source": [
        "Q3: Write a Python code to read specific columns (LatD,LonD and City) and (LatM, LonM and State) of a CSV file (cities.csv Download cities.csv) and print the content of the columns. Also print the 'type' of data in each of the columns"
      ],
      "metadata": {
        "id": "dkvv8ocjBxjv"
      }
    },
    {
      "cell_type": "code",
      "source": [
        "import pandas as pd\n",
        "df = pd.read_csv('/cities.csv')\n",
        "\n",
        "df1 = df.iloc[:, [0, 4, 8]]\n",
        "print(df1)\n",
        "print(df1.dtypes)\n",
        "\n",
        "df2 = df.iloc[:, [1, 5, 9]]\n",
        "print(df2)\n",
        "print(df2.dtypes)"
      ],
      "metadata": {
        "id": "w5xtsA-vB04N",
        "colab": {
          "base_uri": "https://localhost:8080/"
        },
        "outputId": "a1da2e97-39af-40de-d56a-86364724964e"
      },
      "execution_count": null,
      "outputs": [
        {
          "output_type": "stream",
          "name": "stdout",
          "text": [
            "     LatD   \"LonD\"              \"City\"\n",
            "0      41       80        \"Youngstown\"\n",
            "1      42       97           \"Yankton\"\n",
            "2      46      120            \"Yakima\"\n",
            "3      42       71         \"Worcester\"\n",
            "4      43       89   \"Wisconsin Dells\"\n",
            "..    ...      ...                 ...\n",
            "123    39      119              \"Reno\"\n",
            "124    50      104            \"Regina\"\n",
            "125    40      122         \"Red Bluff\"\n",
            "126    40       75           \"Reading\"\n",
            "127    41       81           \"Ravenna\"\n",
            "\n",
            "[128 rows x 3 columns]\n",
            "LatD        int64\n",
            " \"LonD\"     int64\n",
            " \"City\"    object\n",
            "dtype: object\n",
            "      \"LatM\"   \"LonM\"  \"State\"\n",
            "0          5       39       OH\n",
            "1         52       23       SD\n",
            "2         35       30       WA\n",
            "3         16       48       MA\n",
            "4         37       46       WI\n",
            "..       ...      ...      ...\n",
            "123       31       48       NV\n",
            "124       25       39       SA\n",
            "125       10       14       CA\n",
            "126       19       55       PA\n",
            "127        9       14      OH \n",
            "\n",
            "[128 rows x 3 columns]\n",
            " \"LatM\"      int64\n",
            " \"LonM\"      int64\n",
            " \"State\"    object\n",
            "dtype: object\n"
          ]
        }
      ]
    },
    {
      "cell_type": "markdown",
      "source": [
        "Q4: Write a Python code to write a Python list of lists (list_of_list.pkl Download list_of_list.pkl) to a csv file. After writing the CSV file, read the CSV file and display the content."
      ],
      "metadata": {
        "id": "TKKRr3iPB1N9"
      }
    },
    {
      "cell_type": "code",
      "source": [
        "import pickle as pkl\n",
        "import pandas as pd\n",
        "with open(\"/list_of_list.pkl\", \"rb\") as fp:\n",
        "    b = pkl.load(fp)\n",
        "\n",
        "df3 = pd.DataFrame(b)\n",
        "df3.to_csv(r'list_of_list.csv', index = False)\n",
        "df4 = pd.read_csv('list_of_list.csv', index_col = False)\n",
        "print(df4)\n"
      ],
      "metadata": {
        "id": "wWVdQ4OAB4l6",
        "colab": {
          "base_uri": "https://localhost:8080/"
        },
        "outputId": "1c847a4b-d62d-4e06-d35e-653948ecd06c"
      },
      "execution_count": null,
      "outputs": [
        {
          "output_type": "stream",
          "name": "stdout",
          "text": [
            "                             0          1       2        3               4  \\\n",
            "0               competitorname  chocolate  fruity  caramel  peanutyalmondy   \n",
            "1                  Mr Good Bar          y       n        n               y   \n",
            "2   Chewey Lemonhead Fruit Mix          n       y        n               n   \n",
            "3                    Starburst          n       y        n               n   \n",
            "4                   Gobstopper          n       y        n               n   \n",
            "..                         ...        ...     ...      ...             ...   \n",
            "81          Caramel Apple Pops          n       y        y               n   \n",
            "82                     Fun Dip          n       y        n               n   \n",
            "83                       Runts          n       y        n               n   \n",
            "84                        Dots          n       y        n               n   \n",
            "85                    Snickers          y       n        y               y   \n",
            "\n",
            "         5                 6     7    8         9            10            11  \\\n",
            "0   nougat  crispedricewafer  hard  bar  pluribus  sugarpercent  pricepercent   \n",
            "1        n                 n     n    y         n     .31299999     .91799998   \n",
            "2        n                 n     n    n         y     .73199999     .51099998   \n",
            "3        n                 n     n    n         y     .15099999           .22   \n",
            "4        n                 n     y    n         y     .90600002     .45300001   \n",
            "..     ...               ...   ...  ...       ...           ...           ...   \n",
            "81       n                 n     n    n         n     .60399997     .32499999   \n",
            "82       n                 n     y    n         n     .73199999     .32499999   \n",
            "83       n                 n     y    n         y     .87199998     .27900001   \n",
            "84       n                 n     n    n         y     .73199999     .51099998   \n",
            "85       y                 n     n    y         n          .546     .65100002   \n",
            "\n",
            "            12  \n",
            "0   winpercent  \n",
            "1    54.526451  \n",
            "2    36.017628  \n",
            "3    67.037628  \n",
            "4    46.783348  \n",
            "..         ...  \n",
            "81   34.517681  \n",
            "82   39.185505  \n",
            "83   42.849144  \n",
            "84   42.272076  \n",
            "85   76.673782  \n",
            "\n",
            "[86 rows x 13 columns]\n"
          ]
        }
      ]
    },
    {
      "cell_type": "markdown",
      "source": [
        "Q5: Write a Python program to convert a Python DataFrame to a dictionary object."
      ],
      "metadata": {
        "id": "lCVA3vZiB49F"
      }
    },
    {
      "cell_type": "code",
      "source": [
        "import pandas as pd\n",
        "data = [[1, 2, 3],\n",
        "        [4, 5, 6],\n",
        "        [7, 8, 9]]\n",
        "df = pd.DataFrame(data, index=['R1', 'R2', 'R3'], columns=['C1', 'C2', 'C3'])\n",
        "print(df)\n",
        "\n",
        "dictionary = df.to_dict();\n",
        "print(\"DataFrame as Dictionary:\", dictionary);"
      ],
      "metadata": {
        "id": "0cdaF202B8F1",
        "colab": {
          "base_uri": "https://localhost:8080/"
        },
        "outputId": "f8cd6e21-9d56-4963-8cde-531a036eb7a5"
      },
      "execution_count": null,
      "outputs": [
        {
          "output_type": "stream",
          "name": "stdout",
          "text": [
            "    C1  C2  C3\n",
            "R1   1   2   3\n",
            "R2   4   5   6\n",
            "R3   7   8   9\n",
            "DataFrame as Dictionary: {'C1': {'R1': 1, 'R2': 4, 'R3': 7}, 'C2': {'R1': 2, 'R2': 5, 'R3': 8}, 'C3': {'R1': 3, 'R2': 6, 'R3': 9}}\n"
          ]
        }
      ]
    },
    {
      "cell_type": "markdown",
      "source": [
        "Q6: You are given a text file containing a string of words and you need to write a function to find words with a certain number of characters in the given text file. The length of the word will be the parameter of the function and will be given by the user. Remove duplicate words from the final list."
      ],
      "metadata": {
        "id": "fuK2u4vrB8ri"
      }
    },
    {
      "cell_type": "code",
      "source": [
        "def find_words(path, wordLength):\n",
        "    # Opening + Reading text file\n",
        "    with open(path, 'r') as file:\n",
        "        content = file.read()\n",
        "\n",
        "    matchingWords = set()\n",
        "    lines = content.split(\"\\n\")\n",
        "    for line in lines:\n",
        "        line = line.strip()\n",
        "        line = line.lower()\n",
        "        # Splitting the string into words by using whitespace as the delimeter\n",
        "        words = line.split(\" \")\n",
        "\n",
        "        for word in words:\n",
        "            temp = word.strip()\n",
        "            if len(temp) == int(wordLength):\n",
        "                matchingWords.add(temp)\n",
        "\n",
        "    return matchingWords\n",
        "\n",
        "file_path = '/Data Science.txt'\n",
        "userLengthInput = input(\"Enter the word length you desire:\")\n",
        "print(\"You entered: \" + userLengthInput + '\\n' + \"Processing your request...\")\n",
        "answer = find_words(file_path, userLengthInput)\n",
        "print(\"The following words are \" + userLengthInput + \" characters long: \")\n",
        "print(answer)"
      ],
      "metadata": {
        "id": "IAZjMShmCBYw",
        "colab": {
          "base_uri": "https://localhost:8080/"
        },
        "outputId": "7f92c72c-03da-4f4e-ab48-3584d27783a4"
      },
      "execution_count": null,
      "outputs": [
        {
          "output_type": "stream",
          "name": "stdout",
          "text": [
            "Enter the word length you desire:4\n",
            "You entered: 4\n",
            "Processing your request...\n",
            "The following words are 4 characters long: \n",
            "{'data', 'uses', 'from', 'that', 'many', 'with', 'gray'}\n"
          ]
        }
      ]
    },
    {
      "cell_type": "markdown",
      "source": [
        "Regular Expressions"
      ],
      "metadata": {
        "id": "l3fHU8bNCBsP"
      }
    },
    {
      "cell_type": "markdown",
      "source": [
        "Q1: Write a Python program that matches a word containing 'z', not at the start or end of the word."
      ],
      "metadata": {
        "id": "RVnmWMPlCEMp"
      }
    },
    {
      "cell_type": "code",
      "source": [
        "import re\n",
        "def findWord(word):\n",
        "    # Compiling the regular expression pattern we desire for word matching\n",
        "    match = re.compile('\\w*.z\\w*')\n",
        "\n",
        "    # Use re.search to find the pattern in the given word\n",
        "    # By applying bool() to the result, we explicitly convert it to a boolean value (True or False).\n",
        "    return bool(re.search(match, word))\n",
        "\n",
        "wordList = [\"zodiac\", \"pizza\", \"bizz\", \"hazard\", \"blizzard\"]\n",
        "for word in wordList:\n",
        "    if findWord(word):\n",
        "        print('There is a match: ' + word)\n",
        "    else:\n",
        "        print('No match found: ' + word)"
      ],
      "metadata": {
        "id": "Mz1hnluVCJRl",
        "colab": {
          "base_uri": "https://localhost:8080/"
        },
        "outputId": "81d09062-c5c4-409f-92d8-48554f15a505"
      },
      "execution_count": null,
      "outputs": [
        {
          "output_type": "stream",
          "name": "stdout",
          "text": [
            "No match found: zodiac\n",
            "There is a match: pizza\n",
            "There is a match: bizz\n",
            "There is a match: hazard\n",
            "There is a match: blizzard\n"
          ]
        }
      ]
    },
    {
      "cell_type": "markdown",
      "source": [
        "Q2: You are given a list of courses of a student. Write a python program that helps you to find the CSCI courses that the student has taken. Need to find the code and number."
      ],
      "metadata": {
        "id": "X1dzEP65CJx_"
      }
    },
    {
      "cell_type": "code",
      "source": [
        "import re\n",
        "courses = ['CSCI 10', 'MATH 9', 'MATH 11', 'CSCI 60', 'CSCI 182']\n",
        "csci_courses = []\n",
        "for course in courses:\n",
        "    match = re.match(\"CSCI\\s(\\d)+\", course)\n",
        "    if match:\n",
        "        csci_courses.append(match.group(0))\n",
        "print(csci_courses)"
      ],
      "metadata": {
        "id": "uXxLJW4ECQVT",
        "colab": {
          "base_uri": "https://localhost:8080/"
        },
        "outputId": "75af87c1-a10e-4111-ec1d-cda708665ffe"
      },
      "execution_count": null,
      "outputs": [
        {
          "output_type": "stream",
          "name": "stdout",
          "text": [
            "['CSCI 10', 'CSCI 60', 'CSCI 182']\n"
          ]
        }
      ]
    }
  ]
}

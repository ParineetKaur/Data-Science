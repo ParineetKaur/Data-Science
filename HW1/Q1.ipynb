# Question 1: Write a Python program to print the number and sum of prime numbers which are less than or equal to a given number. 

def prime(num):
    if num < 2:
        return False
    for i in range(2, int(num ** 0.5) + 1):
        if num % i == 0:
            return False
    return True


def sum_and_prime(given):
    primes = [num for num in range(2, given + 1) if prime(num)]
    sum_prime = sum(primes)

    print(f"Prime Numbers: {primes}")
    print(f"Sum of Primes: {sum_prime}")


sum_and_prime(22)
